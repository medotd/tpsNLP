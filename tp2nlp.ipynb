{
 "cells": [
  {
   "cell_type": "code",
   "execution_count": 3,
   "metadata": {},
   "outputs": [],
   "source": [
    "from gensim.models import Word2Vec\n",
    "from nltk.tokenize import word_tokenize\n",
    "from nltk.corpus import stopwords\n",
    "import string"
   ]
  },
  {
   "cell_type": "code",
   "execution_count": 4,
   "metadata": {},
   "outputs": [],
   "source": [
    "# Texte à prétraiter\n",
    "input_text = r'C:\\Users\\tech aarohi\\Downloads\\text'"
   ]
  },
  {
   "cell_type": "code",
   "execution_count": 5,
   "metadata": {},
   "outputs": [],
   "source": [
    "\n",
    "#read input file\n",
    "def read_input(input_text):\n",
    "    sentences = []\n",
    "    with open(input_text, 'r') as t:\n",
    "        for line in t:\n",
    "            # Tokenize each line and add to the sentences list\n",
    "            tokens = word_tokenize(line.lower())\n",
    "            sentences.append(tokens)\n",
    "    return sentences"
   ]
  },
  {
   "cell_type": "markdown",
   "metadata": {},
   "source": [
    "1) Extraire la representation d'un mot :"
   ]
  },
  {
   "cell_type": "code",
   "execution_count": 7,
   "metadata": {},
   "outputs": [
    {
     "name": "stdout",
     "output_type": "stream",
     "text": [
      "Représentation vectorielle de 'morocco': [-5.3521870e-03 -6.3152849e-03 -7.5705540e-03  8.4748827e-03\n",
      " -1.8369526e-03 -7.4583017e-03 -3.5855665e-03  5.8824224e-03\n",
      " -3.3598649e-03 -4.2308206e-03  1.7384501e-03 -3.2191454e-03\n",
      " -1.7341455e-03  1.0104151e-03 -3.0318762e-03  8.3515439e-03\n",
      "  4.1013723e-03 -1.0412180e-02  6.0250540e-03 -7.6358314e-03\n",
      "  8.0689025e-04  4.4111619e-03 -4.7270409e-03 -2.1708664e-03\n",
      "  8.1192991e-03 -4.1506854e-03 -7.8375544e-03  8.9479191e-03\n",
      " -2.4769423e-03 -4.7074016e-03  8.8802362e-03  4.4401265e-03\n",
      "  4.5653675e-03  8.9925053e-03 -8.6751990e-03  5.7348716e-03\n",
      "  2.2164753e-03  4.0372470e-03  1.3651052e-03  3.8336930e-03\n",
      "  4.5678709e-03  5.7298583e-03 -3.3069365e-03 -4.5204447e-03\n",
      " -3.6652418e-06  2.5565994e-03 -3.4950713e-03  6.0166656e-03\n",
      "  4.3269014e-03  7.9088472e-03  2.9703521e-03  8.0122780e-03\n",
      " -1.4443510e-03  7.9522133e-03  3.4716511e-03 -7.9736989e-03\n",
      " -3.6889925e-03 -2.4512168e-03  4.5811408e-03 -7.8654184e-04\n",
      " -2.7930215e-03  7.7747847e-03  9.5897214e-03 -1.7822172e-03\n",
      " -5.5203899e-03 -4.5582191e-03 -4.6752603e-03 -9.2308028e-03\n",
      "  9.1934309e-04 -3.9130766e-03  2.2842167e-03  5.8740284e-03\n",
      " -3.7624293e-03 -9.5536849e-03  2.0999562e-03 -6.4444817e-03\n",
      "  2.5771037e-03 -3.7017269e-03  6.8751220e-03  7.3051365e-04\n",
      "  3.4001933e-03 -2.6446758e-03 -1.8758517e-03  7.9934550e-03\n",
      "  1.0473087e-03 -5.9560966e-03 -7.5549963e-03  1.7518547e-03\n",
      "  6.7417133e-03  5.2381367e-03 -8.6347358e-03  9.0196412e-03\n",
      "  4.0441300e-03  7.6156957e-03  1.0511445e-02 -7.0877932e-03\n",
      " -8.8966535e-03  5.6476062e-03  9.3641086e-03  3.3962000e-03]\n"
     ]
    }
   ],
   "source": [
    "sentences = list(read_input(input_text))\n",
    "# Entraîner le modèle word2vec\n",
    "model = Word2Vec(sentences, vector_size=100, window=5, min_count=1, workers=4)\n",
    "\n",
    "\n",
    "# 1. Extraire la représentation vectorielle d'un mot\n",
    "word_vector = model.wv[\"morocco\"]\n",
    "print(\"Représentation vectorielle de 'morocco':\", word_vector)"
   ]
  },
  {
   "cell_type": "markdown",
   "metadata": {},
   "source": [
    "2) similiarite en deux mots"
   ]
  },
  {
   "cell_type": "code",
   "execution_count": 8,
   "metadata": {},
   "outputs": [
    {
     "name": "stdout",
     "output_type": "stream",
     "text": [
      "Similarité entre 'morocco' et 'marrakech': -0.07653214\n"
     ]
    }
   ],
   "source": [
    "similarity = model.wv.similarity(\"morocco\", \"marrakech\")\n",
    "print(\"Similarité entre 'morocco' et 'marrakech':\", similarity)"
   ]
  },
  {
   "cell_type": "markdown",
   "metadata": {},
   "source": [
    "3) Extraire les mots contextuels (les plus similaires) pour un mot central donné"
   ]
  },
  {
   "cell_type": "code",
   "execution_count": 9,
   "metadata": {},
   "outputs": [
    {
     "name": "stdout",
     "output_type": "stream",
     "text": [
      "Mots contextuels pour 'morocco': [('proverb', 0.31528180837631226), ('kingdom', 0.26432570815086365), ('unparalleled', 0.25275084376335144), (',', 0.2334689050912857), ('would', 0.23267045617103577), ('north', 0.2242491990327835), ('routes', 0.2155819535255432), ('destination', 0.19405965507030487), ('travel', 0.1869126558303833), ('couscous', 0.18671821057796478)]\n"
     ]
    }
   ],
   "source": [
    "# 3. Extraire les mots contextuels pour un mot central donné\n",
    "context_words = model.wv.most_similar(\"morocco\")\n",
    "print(\"Mots contextuels pour 'morocco':\", context_words)"
   ]
  }
 ],
 "metadata": {
  "kernelspec": {
   "display_name": "Python 3",
   "language": "python",
   "name": "python3"
  },
  "language_info": {
   "codemirror_mode": {
    "name": "ipython",
    "version": 3
   },
   "file_extension": ".py",
   "mimetype": "text/x-python",
   "name": "python",
   "nbconvert_exporter": "python",
   "pygments_lexer": "ipython3",
   "version": "3.10.8"
  }
 },
 "nbformat": 4,
 "nbformat_minor": 2
}
